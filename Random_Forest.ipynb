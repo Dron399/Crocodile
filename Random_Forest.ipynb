{
 "cells": [
  {
   "cell_type": "code",
   "execution_count": null,
   "id": "53f084fd-77dd-4e53-978a-790dd6cc2f6f",
   "metadata": {},
   "outputs": [],
   "source": [
    "crocodile-linear-regression/\n",
    " crocodile_dataset.csv\n",
    " main.py\n",
    " requirements.txt\n",
    " README.md"
   ]
  },
  {
   "cell_type": "code",
   "execution_count": null,
   "id": "414c6e91-1cc3-4a94-b35d-e2e0ee3daaf5",
   "metadata": {},
   "outputs": [],
   "source": [
    "import pandas as pd\n",
    "import numpy as np\n",
    "import matplotlib.pyplot as plt\n",
    "from sklearn.model_selection import train_test_split\n",
    "from sklearn.linear_model import LinearRegression\n",
    "from sklearn.metrics import mean_squared_error, r2_score"
   ]
  },
  {
   "cell_type": "code",
   "execution_count": null,
   "id": "a8c310f1-dd14-42df-a5da-ade65e4fd7e9",
   "metadata": {},
   "outputs": [],
   "source": [
    "df = pd.read_csv(\"crocodile_dataset.csv\")\n",
    "\n",
    "# Display basic info\n",
    "print(\"Dataset Loaded Successfully ✅\")\n",
    "print(\"Shape:\", df.shape)\n",
    "print(\"\\nColumns:\", df.columns.tolist())"
   ]
  },
  {
   "cell_type": "code",
   "execution_count": null,
   "id": "c4382f60-724d-41dc-a07e-5d1d804eb752",
   "metadata": {},
   "outputs": [],
   "source": [
    "# We will predict weight based on length\n",
    "df = df[[\"Observed Length (m)\", \"Observed Weight (kg)\"]].dropna()\n",
    "\n",
    "X = df[[\"Observed Length (m)\"]]  # Independent variable\n",
    "y = df[\"Observed Weight (kg)\"]   # Dependent variable"
   ]
  },
  {
   "cell_type": "code",
   "execution_count": null,
   "id": "e91ead24-584c-472a-8284-fce085029eef",
   "metadata": {},
   "outputs": [],
   "source": [
    "X_train, X_test, y_train, y_test = train_test_split(X, y, test_size=0.2, random_state=42)"
   ]
  },
  {
   "cell_type": "code",
   "execution_count": null,
   "id": "a0f8dda6-f9f2-4cf7-9315-0eeb8fe6368a",
   "metadata": {},
   "outputs": [],
   "source": [
    "model = LinearRegression()\n",
    "model.fit(X_train, y_train)"
   ]
  },
  {
   "cell_type": "code",
   "execution_count": null,
   "id": "46560899-9da9-4a32-97f1-7e7265a1c652",
   "metadata": {},
   "outputs": [],
   "source": [
    "y_pred = model.predict(X_test)"
   ]
  },
  {
   "cell_type": "code",
   "execution_count": null,
   "id": "cd38388a-a157-49ea-ba90-6c1337b73bc8",
   "metadata": {},
   "outputs": [],
   "source": [
    "mse = mean_squared_error(y_test, y_pred)\n",
    "r2 = r2_score(y_test, y_pred)\n",
    "\n",
    "print(\"\\nModel Performance 📊\")\n",
    "print(f\"Mean Squared Error: {mse:.2f}\")\n",
    "print(f\"R² Score: {r2:.2f}\")\n"
   ]
  },
  {
   "cell_type": "code",
   "execution_count": null,
   "id": "934b44a7-d0fc-4afb-b755-fd7a8e99be93",
   "metadata": {},
   "outputs": [],
   "source": [
    "plt.figure(figsize=(8, 6))\n",
    "plt.scatter(X, y, color='blue', label='Actual Data')\n",
    "plt.plot(X, model.predict(X), color='red', linewidth=2, label='Regression Line')\n",
    "plt.title(\"Crocodile Weight Prediction\")\n",
    "plt.xlabel(\"Observed Length (m)\")\n",
    "plt.ylabel(\"Observed Weight (kg)\")\n",
    "plt.legend()\n",
    "plt.grid(True)\n",
    "plt.show()"
   ]
  },
  {
   "cell_type": "code",
   "execution_count": null,
   "id": "299e80e9-15f9-4f60-a5a2-a2208a5028b4",
   "metadata": {},
   "outputs": [],
   "source": [
    "sample_length = 3.5\n",
    "predicted_weight = model.predict([[sample_length]])[0]\n",
    "print(f\"\\nPredicted weight for crocodile of length {sample_length} m: {predicted_weight:.2f} kg\")\n"
   ]
  },
  {
   "cell_type": "code",
   "execution_count": null,
   "id": "775ea7c7-dbfd-4fb1-ad53-edeff8e4be81",
   "metadata": {},
   "outputs": [],
   "source": [
    "import joblib\n",
    "joblib.dump(model, \"crocodile_weight_model.pkl\")\n",
    "print(\"\\nModel saved as crocodile_weight_model.pkl ✅\")"
   ]
  }
 ],
 "metadata": {
  "kernelspec": {
   "display_name": "Python [conda env:base] *",
   "language": "python",
   "name": "conda-base-py"
  },
  "language_info": {
   "codemirror_mode": {
    "name": "ipython",
    "version": 3
   },
   "file_extension": ".py",
   "mimetype": "text/x-python",
   "name": "python",
   "nbconvert_exporter": "python",
   "pygments_lexer": "ipython3",
   "version": "3.13.5"
  }
 },
 "nbformat": 4,
 "nbformat_minor": 5
}
